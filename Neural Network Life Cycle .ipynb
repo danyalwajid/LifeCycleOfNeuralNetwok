{
 "cells": [
  {
   "cell_type": "code",
   "execution_count": 1,
   "metadata": {},
   "outputs": [],
   "source": [
    "from keras.models import Sequential\n",
    "from keras.layers import Dense\n",
    "import numpy as np\n",
    "import pandas as pd"
   ]
  },
  {
   "cell_type": "code",
   "execution_count": 4,
   "metadata": {},
   "outputs": [],
   "source": [
    "df = pd.read_csv('1.csv')\n",
    "X = df.iloc[:,0:8]\n",
    "y = df.iloc[:,8]"
   ]
  },
  {
   "cell_type": "code",
   "execution_count": 5,
   "metadata": {},
   "outputs": [],
   "source": [
    "model = Sequential()\n",
    "model.add(Dense(15,input_dim=8,activation='relu'))\n",
    "model.add(Dense(1,activation='sigmoid'))"
   ]
  },
  {
   "cell_type": "code",
   "execution_count": 6,
   "metadata": {},
   "outputs": [],
   "source": [
    "model.compile(loss='binary_crossentropy', optimizer='adam', metrics=['accuracy'])"
   ]
  },
  {
   "cell_type": "code",
   "execution_count": 7,
   "metadata": {},
   "outputs": [
    {
     "name": "stdout",
     "output_type": "stream",
     "text": [
      "Epoch 1/10\n",
      "77/77 [==============================] - 1s 962us/step - loss: 6.1346 - accuracy: 0.5580\n",
      "Epoch 2/10\n",
      "77/77 [==============================] - 0s 998us/step - loss: 3.1160 - accuracy: 0.5867\n",
      "Epoch 3/10\n",
      "77/77 [==============================] - 0s 1ms/step - loss: 2.4154 - accuracy: 0.5945\n",
      "Epoch 4/10\n",
      "77/77 [==============================] - 0s 1ms/step - loss: 1.9155 - accuracy: 0.6141\n",
      "Epoch 5/10\n",
      "77/77 [==============================] - 0s 969us/step - loss: 1.6399 - accuracy: 0.6128\n",
      "Epoch 6/10\n",
      "77/77 [==============================] - 0s 922us/step - loss: 1.3466 - accuracy: 0.6297\n",
      "Epoch 7/10\n",
      "77/77 [==============================] - 0s 1ms/step - loss: 1.0720 - accuracy: 0.6545\n",
      "Epoch 8/10\n",
      "77/77 [==============================] - 0s 954us/step - loss: 0.9679 - accuracy: 0.6519\n",
      "Epoch 9/10\n",
      "77/77 [==============================] - 0s 1ms/step - loss: 0.8738 - accuracy: 0.6467\n",
      "Epoch 10/10\n",
      "77/77 [==============================] - 0s 1ms/step - loss: 0.8157 - accuracy: 0.6636\n"
     ]
    },
    {
     "data": {
      "text/plain": [
       "<keras.callbacks.History at 0x7f8e10214ca0>"
      ]
     },
     "execution_count": 7,
     "metadata": {},
     "output_type": "execute_result"
    }
   ],
   "source": [
    "model.fit(X, y, epochs=10, batch_size=10)"
   ]
  },
  {
   "cell_type": "code",
   "execution_count": 9,
   "metadata": {},
   "outputs": [
    {
     "name": "stdout",
     "output_type": "stream",
     "text": [
      "24/24 [==============================] - 0s 1ms/step - loss: 0.7625 - accuracy: 0.6415\n",
      "Loss 0.76, Accuracy 64.15%\n"
     ]
    }
   ],
   "source": [
    "loss , accuracy = model.evaluate(X, y)\n",
    "print(\"Loss %.2f, Accuracy %.2f%%\" % (loss , accuracy*100))"
   ]
  },
  {
   "cell_type": "code",
   "execution_count": 17,
   "metadata": {},
   "outputs": [
    {
     "name": "stdout",
     "output_type": "stream",
     "text": [
      "Prediction Accuracy 64.15%\n"
     ]
    }
   ],
   "source": [
    "probabilities = model.predict(X)\n",
    "predictions = [float(np.round(x)) for x in probabilities]\n",
    "accuracy = np.mean(predictions == y)\n",
    "print(\"Prediction Accuracy %.2f%%\" % (accuracy*100))"
   ]
  },
  {
   "cell_type": "code",
   "execution_count": null,
   "metadata": {},
   "outputs": [],
   "source": []
  }
 ],
 "metadata": {
  "kernelspec": {
   "display_name": "Python 3",
   "language": "python",
   "name": "python3"
  },
  "language_info": {
   "codemirror_mode": {
    "name": "ipython",
    "version": 3
   },
   "file_extension": ".py",
   "mimetype": "text/x-python",
   "name": "python",
   "nbconvert_exporter": "python",
   "pygments_lexer": "ipython3",
   "version": "3.8.12"
  }
 },
 "nbformat": 4,
 "nbformat_minor": 4
}
